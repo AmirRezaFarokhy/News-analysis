{
 "cells": [
  {
   "cell_type": "code",
   "execution_count": 71,
   "id": "fad39303",
   "metadata": {},
   "outputs": [
    {
     "data": {
      "text/html": [
       "<div>\n",
       "<style scoped>\n",
       "    .dataframe tbody tr th:only-of-type {\n",
       "        vertical-align: middle;\n",
       "    }\n",
       "\n",
       "    .dataframe tbody tr th {\n",
       "        vertical-align: top;\n",
       "    }\n",
       "\n",
       "    .dataframe thead th {\n",
       "        text-align: right;\n",
       "    }\n",
       "</style>\n",
       "<table border=\"1\" class=\"dataframe\">\n",
       "  <thead>\n",
       "    <tr style=\"text-align: right;\">\n",
       "      <th></th>\n",
       "      <th>target</th>\n",
       "      <th>News</th>\n",
       "    </tr>\n",
       "  </thead>\n",
       "  <tbody>\n",
       "    <tr>\n",
       "      <th>0</th>\n",
       "      <td>neutral</td>\n",
       "      <td>According to Gran , the company has no plans t...</td>\n",
       "    </tr>\n",
       "    <tr>\n",
       "      <th>1</th>\n",
       "      <td>neutral</td>\n",
       "      <td>Technopolis plans to develop in stages an area...</td>\n",
       "    </tr>\n",
       "    <tr>\n",
       "      <th>2</th>\n",
       "      <td>negative</td>\n",
       "      <td>The international electronic industry company ...</td>\n",
       "    </tr>\n",
       "    <tr>\n",
       "      <th>3</th>\n",
       "      <td>positive</td>\n",
       "      <td>With the new production plant the company woul...</td>\n",
       "    </tr>\n",
       "    <tr>\n",
       "      <th>4</th>\n",
       "      <td>positive</td>\n",
       "      <td>According to the company 's updated strategy f...</td>\n",
       "    </tr>\n",
       "  </tbody>\n",
       "</table>\n",
       "</div>"
      ],
      "text/plain": [
       "     target                                               News\n",
       "0   neutral  According to Gran , the company has no plans t...\n",
       "1   neutral  Technopolis plans to develop in stages an area...\n",
       "2  negative  The international electronic industry company ...\n",
       "3  positive  With the new production plant the company woul...\n",
       "4  positive  According to the company 's updated strategy f..."
      ]
     },
     "execution_count": 71,
     "metadata": {},
     "output_type": "execute_result"
    }
   ],
   "source": [
    "import pandas as pd\n",
    "from collections import Counter, deque\n",
    "import re\n",
    "import numpy as np\n",
    "import random\n",
    "\n",
    "from sklearn.svm import SVC\n",
    "from sklearn.preprocessing import StandardScaler, scale, MinMaxScaler\n",
    "from sklearn.tree import DecisionTreeClassifier\n",
    "from sklearn.neighbors import KNeighborsClassifier\n",
    "from sklearn.model_selection import train_test_split\n",
    "\n",
    "MAX_LEN = 12\n",
    "VALID_LEN_POS = 750\n",
    "VALID_LEN_NEU = 2270\n",
    "LIST_NAME = ['positive', 'negetive', 'neutral']\n",
    "\n",
    "df = pd.read_csv(\"all-data.csv\", encoding=\"latin1\")\n",
    "df.head()"
   ]
  },
  {
   "cell_type": "code",
   "execution_count": 72,
   "id": "c38aa274",
   "metadata": {},
   "outputs": [
    {
     "data": {
      "text/html": [
       "<div>\n",
       "<style scoped>\n",
       "    .dataframe tbody tr th:only-of-type {\n",
       "        vertical-align: middle;\n",
       "    }\n",
       "\n",
       "    .dataframe tbody tr th {\n",
       "        vertical-align: top;\n",
       "    }\n",
       "\n",
       "    .dataframe thead th {\n",
       "        text-align: right;\n",
       "    }\n",
       "</style>\n",
       "<table border=\"1\" class=\"dataframe\">\n",
       "  <thead>\n",
       "    <tr style=\"text-align: right;\">\n",
       "      <th></th>\n",
       "      <th>target</th>\n",
       "      <th>News</th>\n",
       "    </tr>\n",
       "  </thead>\n",
       "  <tbody>\n",
       "    <tr>\n",
       "      <th>775</th>\n",
       "      <td>1</td>\n",
       "      <td>Our standardised services have met with a posi...</td>\n",
       "    </tr>\n",
       "    <tr>\n",
       "      <th>933</th>\n",
       "      <td>1</td>\n",
       "      <td>21 December 2010 - Finnish industrial machiner...</td>\n",
       "    </tr>\n",
       "    <tr>\n",
       "      <th>932</th>\n",
       "      <td>1</td>\n",
       "      <td>`` We 've been feeling quite positive about th...</td>\n",
       "    </tr>\n",
       "    <tr>\n",
       "      <th>931</th>\n",
       "      <td>1</td>\n",
       "      <td>`` We have tailored our solutions to meet Sole...</td>\n",
       "    </tr>\n",
       "    <tr>\n",
       "      <th>930</th>\n",
       "      <td>1</td>\n",
       "      <td>`` We are pleased to deliver the Basware Invoi...</td>\n",
       "    </tr>\n",
       "  </tbody>\n",
       "</table>\n",
       "</div>"
      ],
      "text/plain": [
       "     target                                               News\n",
       "775       1  Our standardised services have met with a posi...\n",
       "933       1  21 December 2010 - Finnish industrial machiner...\n",
       "932       1  `` We 've been feeling quite positive about th...\n",
       "931       1  `` We have tailored our solutions to meet Sole...\n",
       "930       1  `` We are pleased to deliver the Basware Invoi..."
      ]
     },
     "execution_count": 72,
     "metadata": {},
     "output_type": "execute_result"
    }
   ],
   "source": [
    "# target updating\n",
    "def classify(data):\n",
    "    if data==\"positive\":\n",
    "        return 1\n",
    "    elif data==\"negative\":\n",
    "        return 2\n",
    "    elif data==\"neutral\":\n",
    "        return 3\n",
    "    \n",
    "\n",
    "df[\"target\"] = list(map(classify, df[\"target\"]))\n",
    "# we must sort to can balace data\n",
    "df.sort_values('target', inplace=True)\n",
    "df.head()"
   ]
  },
  {
   "cell_type": "code",
   "execution_count": 63,
   "id": "99ba1587",
   "metadata": {},
   "outputs": [
    {
     "data": {
      "text/plain": [
       "Counter({1: 1363, 2: 604, 3: 2879})"
      ]
     },
     "execution_count": 63,
     "metadata": {},
     "output_type": "execute_result"
    }
   ],
   "source": [
    "Counter(df['target'])"
   ]
  },
  {
   "cell_type": "code",
   "execution_count": 64,
   "id": "76934a74",
   "metadata": {},
   "outputs": [
    {
     "data": {
      "text/plain": [
       "Counter({1: 613, 2: 604, 3: 609})"
      ]
     },
     "execution_count": 64,
     "metadata": {},
     "output_type": "execute_result"
    }
   ],
   "source": [
    "# data must be balanced\n",
    "df = df[VALID_LEN_POS:]\n",
    "df = df[:-VALID_LEN_NEU]\n",
    "Counter(df['target'])"
   ]
  },
  {
   "cell_type": "code",
   "execution_count": 65,
   "id": "e1a3d04c",
   "metadata": {},
   "outputs": [
    {
     "data": {
      "text/plain": [
       "[2,\n",
       " [0.2801152823228134,\n",
       "  0.052549498064015855,\n",
       "  1.0728404373078446,\n",
       "  0.6767563341307332,\n",
       "  0.4638861691590854,\n",
       "  0.27736265105625957,\n",
       "  0.6599301861798212,\n",
       "  0.49763436546008194,\n",
       "  0.49763436546008194,\n",
       "  0.49763436546008194,\n",
       "  0.49763436546008194,\n",
       "  0.49763436546008194]]"
      ]
     },
     "execution_count": 65,
     "metadata": {},
     "output_type": "execute_result"
    }
   ],
   "source": [
    "lst = []\n",
    "for t in df['News'].values:\n",
    "    texts = t.lower()\n",
    "    texts = re.sub(\"[%;,.]+\", repl=\"\", string=texts)\n",
    "    #texts = \"<start> \"  + texts + \"<end>\"\n",
    "    lst.append(texts)\n",
    "\n",
    "\n",
    "strings_all = ''.join(i for i in lst)\n",
    "strings_all = re.sub(' +', repl=' ', string=strings_all)\n",
    "strings_all = Counter(strings_all.split(' '))\n",
    "\n",
    "string_each = []\n",
    "for l in lst:\n",
    "    texts = re.sub(' +', repl=' ', string=l)\n",
    "    each = texts.split(' ')\n",
    "    string_each.append(Counter(each[:-1]))\n",
    "    \n",
    "\n",
    "# Tokenization with the formula available in the README.md file \n",
    "def Tokenizer(each, group):\n",
    "    value = []\n",
    "    for count in each:\n",
    "        val = []\n",
    "        for k in count:\n",
    "            if group[k]!=0:\n",
    "                point_each = count[k] / len(count)\n",
    "                point_all = np.log(len(each) / group[k])\n",
    "                val.append(point_each*point_all)\n",
    "                \n",
    "        value.append(val)\n",
    "        \n",
    "    datasets = []\n",
    "    for target, features in zip(df['target'], value):\n",
    "        features = features[:MAX_LEN]\n",
    "        if len(features)<MAX_LEN:\n",
    "            mean = np.mean(features)\n",
    "            length = MAX_LEN - len(features)\n",
    "            for i in range(length):\n",
    "                features.append(mean)\n",
    "            datasets.append([target, features])\n",
    "    \n",
    "    # exiting the sort mode \n",
    "    random.shuffle(datasets)\n",
    "    \n",
    "    return datasets\n",
    "        \n",
    "\n",
    "dataset = Tokenizer(string_each, strings_all)\n",
    "dataset[0]"
   ]
  },
  {
   "cell_type": "code",
   "execution_count": 66,
   "id": "f847678d",
   "metadata": {},
   "outputs": [
    {
     "data": {
      "text/html": [
       "<style>#sk-container-id-7 {color: black;background-color: white;}#sk-container-id-7 pre{padding: 0;}#sk-container-id-7 div.sk-toggleable {background-color: white;}#sk-container-id-7 label.sk-toggleable__label {cursor: pointer;display: block;width: 100%;margin-bottom: 0;padding: 0.3em;box-sizing: border-box;text-align: center;}#sk-container-id-7 label.sk-toggleable__label-arrow:before {content: \"▸\";float: left;margin-right: 0.25em;color: #696969;}#sk-container-id-7 label.sk-toggleable__label-arrow:hover:before {color: black;}#sk-container-id-7 div.sk-estimator:hover label.sk-toggleable__label-arrow:before {color: black;}#sk-container-id-7 div.sk-toggleable__content {max-height: 0;max-width: 0;overflow: hidden;text-align: left;background-color: #f0f8ff;}#sk-container-id-7 div.sk-toggleable__content pre {margin: 0.2em;color: black;border-radius: 0.25em;background-color: #f0f8ff;}#sk-container-id-7 input.sk-toggleable__control:checked~div.sk-toggleable__content {max-height: 200px;max-width: 100%;overflow: auto;}#sk-container-id-7 input.sk-toggleable__control:checked~label.sk-toggleable__label-arrow:before {content: \"▾\";}#sk-container-id-7 div.sk-estimator input.sk-toggleable__control:checked~label.sk-toggleable__label {background-color: #d4ebff;}#sk-container-id-7 div.sk-label input.sk-toggleable__control:checked~label.sk-toggleable__label {background-color: #d4ebff;}#sk-container-id-7 input.sk-hidden--visually {border: 0;clip: rect(1px 1px 1px 1px);clip: rect(1px, 1px, 1px, 1px);height: 1px;margin: -1px;overflow: hidden;padding: 0;position: absolute;width: 1px;}#sk-container-id-7 div.sk-estimator {font-family: monospace;background-color: #f0f8ff;border: 1px dotted black;border-radius: 0.25em;box-sizing: border-box;margin-bottom: 0.5em;}#sk-container-id-7 div.sk-estimator:hover {background-color: #d4ebff;}#sk-container-id-7 div.sk-parallel-item::after {content: \"\";width: 100%;border-bottom: 1px solid gray;flex-grow: 1;}#sk-container-id-7 div.sk-label:hover label.sk-toggleable__label {background-color: #d4ebff;}#sk-container-id-7 div.sk-serial::before {content: \"\";position: absolute;border-left: 1px solid gray;box-sizing: border-box;top: 0;bottom: 0;left: 50%;z-index: 0;}#sk-container-id-7 div.sk-serial {display: flex;flex-direction: column;align-items: center;background-color: white;padding-right: 0.2em;padding-left: 0.2em;position: relative;}#sk-container-id-7 div.sk-item {position: relative;z-index: 1;}#sk-container-id-7 div.sk-parallel {display: flex;align-items: stretch;justify-content: center;background-color: white;position: relative;}#sk-container-id-7 div.sk-item::before, #sk-container-id-7 div.sk-parallel-item::before {content: \"\";position: absolute;border-left: 1px solid gray;box-sizing: border-box;top: 0;bottom: 0;left: 50%;z-index: -1;}#sk-container-id-7 div.sk-parallel-item {display: flex;flex-direction: column;z-index: 1;position: relative;background-color: white;}#sk-container-id-7 div.sk-parallel-item:first-child::after {align-self: flex-end;width: 50%;}#sk-container-id-7 div.sk-parallel-item:last-child::after {align-self: flex-start;width: 50%;}#sk-container-id-7 div.sk-parallel-item:only-child::after {width: 0;}#sk-container-id-7 div.sk-dashed-wrapped {border: 1px dashed gray;margin: 0 0.4em 0.5em 0.4em;box-sizing: border-box;padding-bottom: 0.4em;background-color: white;}#sk-container-id-7 div.sk-label label {font-family: monospace;font-weight: bold;display: inline-block;line-height: 1.2em;}#sk-container-id-7 div.sk-label-container {text-align: center;}#sk-container-id-7 div.sk-container {/* jupyter's `normalize.less` sets `[hidden] { display: none; }` but bootstrap.min.css set `[hidden] { display: none !important; }` so we also need the `!important` here to be able to override the default hidden behavior on the sphinx rendered scikit-learn.org. See: https://github.com/scikit-learn/scikit-learn/issues/21755 */display: inline-block !important;position: relative;}#sk-container-id-7 div.sk-text-repr-fallback {display: none;}</style><div id=\"sk-container-id-7\" class=\"sk-top-container\"><div class=\"sk-text-repr-fallback\"><pre>SVC()</pre><b>In a Jupyter environment, please rerun this cell to show the HTML representation or trust the notebook. <br />On GitHub, the HTML representation is unable to render, please try loading this page with nbviewer.org.</b></div><div class=\"sk-container\" hidden><div class=\"sk-item\"><div class=\"sk-estimator sk-toggleable\"><input class=\"sk-toggleable__control sk-hidden--visually\" id=\"sk-estimator-id-7\" type=\"checkbox\" checked><label for=\"sk-estimator-id-7\" class=\"sk-toggleable__label sk-toggleable__label-arrow\">SVC</label><div class=\"sk-toggleable__content\"><pre>SVC()</pre></div></div></div></div></div>"
      ],
      "text/plain": [
       "SVC()"
      ]
     },
     "execution_count": 66,
     "metadata": {},
     "output_type": "execute_result"
    }
   ],
   "source": [
    "X = []\n",
    "y = []\n",
    "for label, feature in dataset:\n",
    "    X.append(feature)\n",
    "    y.append(label)\n",
    "    \n",
    "\n",
    "X = np.array(X, dtype=np.float64)\n",
    "y = np.array(y)\n",
    "\n",
    "# Scaling data \n",
    "scaler = StandardScaler()\n",
    "X = scaler.fit_transform(X)\n",
    "\n",
    "#X = scale(X)\n",
    "\n",
    "x_train, x_test, y_train, y_test = train_test_split(X, y, test_size=0.1)\n",
    "\n",
    "model = SVC(kernel=\"rbf\")\n",
    "model.fit(x_train, y_train)"
   ]
  },
  {
   "cell_type": "code",
   "execution_count": 67,
   "id": "a9ea2291",
   "metadata": {},
   "outputs": [
    {
     "data": {
      "text/plain": [
       "0.7"
      ]
     },
     "execution_count": 67,
     "metadata": {},
     "output_type": "execute_result"
    }
   ],
   "source": [
    "model.score(x_test, y_test)"
   ]
  },
  {
   "cell_type": "code",
   "execution_count": 68,
   "id": "aa8709ac",
   "metadata": {},
   "outputs": [
    {
     "name": "stdout",
     "output_type": "stream",
     "text": [
      "real is positive, prediction is positive, \n",
      "\n",
      "real is neutral, prediction is neutral, \n",
      "\n",
      "real is neutral, prediction is neutral, \n",
      "\n",
      "real is positive, prediction is positive, \n",
      "\n",
      "real is neutral, prediction is neutral, \n",
      "\n",
      "real is neutral, prediction is neutral, \n",
      "\n",
      "real is negetive, prediction is negetive, \n",
      "\n",
      "real is neutral, prediction is neutral, \n",
      "\n",
      "real is neutral, prediction is neutral, \n",
      "\n",
      "real is neutral, prediction is neutral, \n",
      "\n",
      "real is neutral, prediction is neutral, \n",
      "\n",
      "real is negetive, prediction is negetive, \n",
      "\n",
      "real is positive, prediction is positive, \n",
      "\n",
      "real is negetive, prediction is negetive, \n",
      "\n",
      "real is neutral, prediction is neutral, \n",
      "\n",
      "real is neutral, prediction is neutral, \n",
      "\n",
      "real is neutral, prediction is neutral, \n",
      "\n",
      "real is neutral, prediction is neutral, \n",
      "\n",
      "real is neutral, prediction is neutral, \n",
      "\n",
      "real is positive, prediction is positive, \n",
      "\n",
      "real is neutral, prediction is neutral, \n",
      "\n",
      "real is neutral, prediction is neutral, \n",
      "\n",
      "real is neutral, prediction is neutral, \n",
      "\n",
      "real is negetive, prediction is negetive, \n",
      "\n",
      "real is neutral, prediction is neutral, \n",
      "\n",
      "real is neutral, prediction is neutral, \n",
      "\n",
      "real is negetive, prediction is negetive, \n",
      "\n",
      "real is neutral, prediction is neutral, \n",
      "\n",
      "real is negetive, prediction is negetive, \n",
      "\n",
      "real is negetive, prediction is negetive, \n",
      "\n"
     ]
    }
   ],
   "source": [
    "# show some sample predict\n",
    "for real, pred in zip(y_test, model.predict(x_test)):\n",
    "    print(f\"real is {LIST_NAME[real-1]}, prediction is {LIST_NAME[real-1]}, \\n\")"
   ]
  },
  {
   "cell_type": "code",
   "execution_count": 69,
   "id": "245f8372",
   "metadata": {},
   "outputs": [
    {
     "data": {
      "text/plain": [
       "0.4"
      ]
     },
     "execution_count": 69,
     "metadata": {},
     "output_type": "execute_result"
    }
   ],
   "source": [
    "# for KNeighborsClassifier algoritm\n",
    "model = KNeighborsClassifier()\n",
    "model.fit(x_train, y_train)\n",
    "model.score(x_test, y_test)"
   ]
  },
  {
   "cell_type": "code",
   "execution_count": 70,
   "id": "d0f6d054",
   "metadata": {},
   "outputs": [
    {
     "data": {
      "text/plain": [
       "0.4666666666666667"
      ]
     },
     "execution_count": 70,
     "metadata": {},
     "output_type": "execute_result"
    }
   ],
   "source": [
    "# for DecisionTreeClassifier algoritm\n",
    "model = DecisionTreeClassifier()\n",
    "model.fit(x_train, y_train)\n",
    "model.score(x_test, y_test)"
   ]
  },
  {
   "cell_type": "code",
   "execution_count": null,
   "id": "498caf1c",
   "metadata": {},
   "outputs": [],
   "source": []
  },
  {
   "cell_type": "code",
   "execution_count": null,
   "id": "bb649856",
   "metadata": {},
   "outputs": [],
   "source": []
  },
  {
   "cell_type": "code",
   "execution_count": null,
   "id": "b4b14491",
   "metadata": {},
   "outputs": [],
   "source": []
  },
  {
   "cell_type": "code",
   "execution_count": null,
   "id": "87a0b2b6",
   "metadata": {},
   "outputs": [],
   "source": []
  },
  {
   "cell_type": "code",
   "execution_count": null,
   "id": "8e3354b4",
   "metadata": {},
   "outputs": [],
   "source": []
  }
 ],
 "metadata": {
  "kernelspec": {
   "display_name": "Python 3 (ipykernel)",
   "language": "python",
   "name": "python3"
  },
  "language_info": {
   "codemirror_mode": {
    "name": "ipython",
    "version": 3
   },
   "file_extension": ".py",
   "mimetype": "text/x-python",
   "name": "python",
   "nbconvert_exporter": "python",
   "pygments_lexer": "ipython3",
   "version": "3.10.4"
  }
 },
 "nbformat": 4,
 "nbformat_minor": 5
}
